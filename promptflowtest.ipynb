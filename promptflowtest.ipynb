{
 "cells": [
  {
   "cell_type": "code",
   "execution_count": null,
   "metadata": {},
   "outputs": [],
   "source": [
    "from azure.ai.documentintelligence import DocumentIntelligenceClient\n"
   ]
  },
  {
   "cell_type": "code",
   "execution_count": 2,
   "metadata": {},
   "outputs": [
    {
     "ename": "ImportError",
     "evalue": "cannot import name 'DocumentContentFormat' from 'azure.ai.documentintelligence.models' (c:\\Users\\jomedin\\AppData\\Local\\anaconda3\\envs\\secdemo\\Lib\\site-packages\\azure\\ai\\documentintelligence\\models\\__init__.py)",
     "output_type": "error",
     "traceback": [
      "\u001b[1;31m---------------------------------------------------------------------------\u001b[0m",
      "\u001b[1;31mImportError\u001b[0m                               Traceback (most recent call last)",
      "Cell \u001b[1;32mIn[2], line 1\u001b[0m\n\u001b[1;32m----> 1\u001b[0m \u001b[38;5;28;01mfrom\u001b[39;00m \u001b[38;5;21;01mazure\u001b[39;00m\u001b[38;5;21;01m.\u001b[39;00m\u001b[38;5;21;01mai\u001b[39;00m\u001b[38;5;21;01m.\u001b[39;00m\u001b[38;5;21;01mdocumentintelligence\u001b[39;00m\u001b[38;5;21;01m.\u001b[39;00m\u001b[38;5;21;01mmodels\u001b[39;00m \u001b[38;5;28;01mimport\u001b[39;00m AnalyzeDocumentRequest, DocumentContentFormat, Analyze\n",
      "\u001b[1;31mImportError\u001b[0m: cannot import name 'DocumentContentFormat' from 'azure.ai.documentintelligence.models' (c:\\Users\\jomedin\\AppData\\Local\\anaconda3\\envs\\secdemo\\Lib\\site-packages\\azure\\ai\\documentintelligence\\models\\__init__.py)"
     ]
    }
   ],
   "source": [
    "from azure.ai.documentintelligence.models import AnalyzeDocumentRequest, DocumentContentFormat, Analyze"
   ]
  }
 ],
 "metadata": {
  "kernelspec": {
   "display_name": "secdemo",
   "language": "python",
   "name": "python3"
  },
  "language_info": {
   "codemirror_mode": {
    "name": "ipython",
    "version": 3
   },
   "file_extension": ".py",
   "mimetype": "text/x-python",
   "name": "python",
   "nbconvert_exporter": "python",
   "pygments_lexer": "ipython3",
   "version": "3.12.2"
  }
 },
 "nbformat": 4,
 "nbformat_minor": 2
}
